{
 "cells": [
  {
   "cell_type": "code",
   "execution_count": 15,
   "id": "c4ec1781",
   "metadata": {},
   "outputs": [],
   "source": [
    "import pyDes as enc\n",
    "import re\n",
    "import num2words\n",
    "import azure.cognitiveservices.speech as speechsdk\n",
    "from pydub import AudioSegment\n",
    "import os\n",
    "from getpass import getpass"
   ]
  },
  {
   "cell_type": "code",
   "execution_count": 2,
   "id": "fc26446e",
   "metadata": {},
   "outputs": [],
   "source": [
    "def splitter(n, s):\n",
    "    pieces = s.split()\n",
    "    return (\" \".join(pieces[i:i+n]) for i in range(0, len(pieces), n))\n",
    "\n",
    "def ttsRun(text,file_name,test=0):\n",
    "    if test==0:\n",
    "        speech_config.set_speech_synthesis_output_format(speechsdk.SpeechSynthesisOutputFormat.Audio16Khz32KBitRateMonoMp3)  \n",
    "  \n",
    "        file_config = speechsdk.audio.AudioOutputConfig(filename=file_name)\n",
    "        speech_synthesizer = speechsdk.SpeechSynthesizer(speech_config=speech_config, audio_config=file_config)\n",
    "        # Receives a text from console input and synthesizes it to mp3 file.\n",
    "        result = speech_synthesizer.speak_text_async(text).get()\n",
    "        # Check result\n",
    "        if result.reason == speechsdk.ResultReason.SynthesizingAudioCompleted:\n",
    "            print(\"Speech synthesized, and the audio was saved to [{}]\".format(file_name))\n",
    "        elif result.reason == speechsdk.ResultReason.Canceled:\n",
    "            cancellation_details = result.cancellation_details\n",
    "            print(\"Speech synthesis canceled: {}\".format(cancellation_details.reason))\n",
    "            if cancellation_details.reason == speechsdk.CancellationReason.Error:\n",
    "                print(\"Error details: {}\".format(cancellation_details.error_details))\n",
    "    \n",
    "    else:\n",
    "        #reset attributes for testing\n",
    "        speech_config2 = speechsdk.SpeechConfig(subscription=speech_key, region=service_region)\n",
    "        speech_config2.speech_synthesis_voice_name = voice\n",
    "        # use the default speaker as audio output.\n",
    "        speech_synthesizer = speechsdk.SpeechSynthesizer(speech_config2=speech_config2)\n",
    "        result = speech_synthesizer.speak_text_async(text).get()\n",
    "        # Check result\n",
    "        if result.reason == speechsdk.ResultReason.SynthesizingAudioCompleted:\n",
    "            print(\"Speech synthesized for text [{}]\".format(text))\n",
    "        elif result.reason == speechsdk.ResultReason.Canceled:\n",
    "            cancellation_details = result.cancellation_details\n",
    "            print(\"Speech synthesis canceled: {}\".format(cancellation_details.reason))\n",
    "            if cancellation_details.reason == speechsdk.CancellationReason.Error:\n",
    "                print(\"Error details: {}\".format(cancellation_details.error_details))"
   ]
  },
  {
   "cell_type": "code",
   "execution_count": 16,
   "id": "229e6b94",
   "metadata": {},
   "outputs": [
    {
     "name": "stdout",
     "output_type": "stream",
     "text": [
      "········\n"
     ]
    }
   ],
   "source": [
    "enc_api = b'Ox\\xc7a\\xc22\\xc7\\x7fOv\\xed\\x12\\x01\\x1d\\xd175\\xcf\\xb14\\x03F\\\\\\xd6\\xf0\\xb6\\xe9\\xd8\\xd2ngs\\x8b\\xc8\\\\\\xd3\\x90\\xdb\\xb9\\x11'\n",
    "key  = getpass()\n",
    "api = enc.triple_des(key).decrypt(enc_api, padmode=2).decode(\"utf-8\")"
   ]
  },
  {
   "cell_type": "code",
   "execution_count": 17,
   "id": "f600fd60",
   "metadata": {},
   "outputs": [],
   "source": [
    "# Creates an instance of a speech config with specified subscription key and service region.\n",
    "speech_key = api\n",
    "service_region = \"canadacentral\"\n",
    "\n",
    "voice = \"zh-CN-XiaoyiNeural\"\n",
    "\n",
    "speech_config = speechsdk.SpeechConfig(subscription=speech_key, region=service_region)\n",
    "# Note: the voice setting will not overwrite the voice element in input SSML.\n",
    "speech_config.speech_synthesis_voice_name = voice"
   ]
  },
  {
   "cell_type": "code",
   "execution_count": 19,
   "id": "94352bd7",
   "metadata": {},
   "outputs": [
    {
     "name": "stdout",
     "output_type": "stream",
     "text": [
      "filename:D:\\AI_stuff\\test1.txt\n"
     ]
    }
   ],
   "source": [
    "filename = input(\"filename:\")"
   ]
  },
  {
   "cell_type": "code",
   "execution_count": 20,
   "id": "2df3944b",
   "metadata": {},
   "outputs": [],
   "source": [
    "head_tail = os.path.split(filename)\n",
    "\n",
    "rawName = os.path.splitext(os.path.basename(filename))[0]\n",
    "\n",
    "if not os.path.exists(head_tail[0]+\"\\\\tmp\"):\n",
    "    # If it doesn't exist, create it\n",
    "    os.makedirs(head_tail[0]+\"\\\\tmp\")\n",
    "tmpDir = head_tail[0]+\"\\\\tmp\"\n",
    "\n",
    "file_name = head_tail[0] + \"\\\\\" + rawName + \".mp3\"\n"
   ]
  },
  {
   "cell_type": "code",
   "execution_count": 21,
   "id": "cea9d443",
   "metadata": {},
   "outputs": [],
   "source": [
    "with open(filename,\"r\", encoding=\"utf8\") as f:\n",
    "    text = f.read()\n",
    "text = re.sub(r\"(\\d+)\", lambda x: num2words.num2words(int(x.group(0))), text)"
   ]
  },
  {
   "cell_type": "code",
   "execution_count": 22,
   "id": "196bfe6e",
   "metadata": {},
   "outputs": [],
   "source": [
    "#text = text.replace(\"Lu Xiaoran\",\"鲁筱冉\")"
   ]
  },
  {
   "cell_type": "code",
   "execution_count": 23,
   "id": "2bf30cd3",
   "metadata": {},
   "outputs": [],
   "source": [
    "array=[]\n",
    "for piece in splitter(1000, text):\n",
    "    array.append(piece)"
   ]
  },
  {
   "cell_type": "code",
   "execution_count": 24,
   "id": "6d2414e5",
   "metadata": {
    "scrolled": true
   },
   "outputs": [
    {
     "name": "stdout",
     "output_type": "stream",
     "text": [
      "['D:\\\\AI_stuff\\\\tmp\\\\test1_tmppart1.mp3']\n",
      "Speech synthesized, and the audio was saved to [D:\\AI_stuff\\tmp\\test1_tmppart1.mp3]\n",
      "['D:\\\\AI_stuff\\\\tmp\\\\test1_tmppart1.mp3', 'D:\\\\AI_stuff\\\\tmp\\\\test1_tmppart2.mp3']\n",
      "Speech synthesized, and the audio was saved to [D:\\AI_stuff\\tmp\\test1_tmppart2.mp3]\n",
      "done generating parts\n"
     ]
    }
   ],
   "source": [
    "outputname = rawName+\"_tmp\"\n",
    "partNames = []\n",
    "for i in range(len(array)):\n",
    "    partNames.append(tmpDir+\"\\\\\"+outputname + \"part\" + str(i+1) + \".mp3\")\n",
    "    print(partNames)\n",
    "    ttsRun(array[i],partNames[i])\n",
    "print(\"-----done generating parts-----\")"
   ]
  },
  {
   "cell_type": "code",
   "execution_count": 25,
   "id": "0d72b676",
   "metadata": {},
   "outputs": [
    {
     "name": "stdout",
     "output_type": "stream",
     "text": [
      "merging files\n",
      "writing output to D:\\AI_stuff\\test1.mp3\n"
     ]
    }
   ],
   "source": [
    "mp3Parts=[]\n",
    "for i in range(len(array)):\n",
    "    mp3Parts.append(AudioSegment.from_file(partNames[i], format=\"mp3\"))\n",
    "\n",
    "print(\"merging files\")    \n",
    "\n",
    "combinedFile = mp3Parts[0]\n",
    "for i in range(len(array)-1):\n",
    "    combinedFile = combinedFile + mp3Parts[i+1]\n",
    "\n",
    "file_handle = combinedFile.export(file_name, format=\"mp3\")\n",
    "print(\"writing output to \"+file_name)"
   ]
  },
  {
   "cell_type": "code",
   "execution_count": null,
   "id": "acfb6750",
   "metadata": {},
   "outputs": [],
   "source": []
  }
 ],
 "metadata": {
  "kernelspec": {
   "display_name": "Python 3 (ipykernel)",
   "language": "python",
   "name": "python3"
  },
  "language_info": {
   "codemirror_mode": {
    "name": "ipython",
    "version": 3
   },
   "file_extension": ".py",
   "mimetype": "text/x-python",
   "name": "python",
   "nbconvert_exporter": "python",
   "pygments_lexer": "ipython3",
   "version": "3.9.16"
  }
 },
 "nbformat": 4,
 "nbformat_minor": 5
}
